{
 "cells": [
  {
   "cell_type": "code",
   "execution_count": 10,
   "source": [
    "import pandas as pd\n",
    "from SVM import *\n",
    "import cvxpy as cp"
   ],
   "outputs": [],
   "metadata": {}
  },
  {
   "cell_type": "markdown",
   "source": [
    "**Loading Datasets**"
   ],
   "metadata": {}
  },
  {
   "cell_type": "code",
   "execution_count": 44,
   "source": [
    "X = np.matrix(pd.read_csv(\"/Users/ryanlucas/Desktop/df_X.csv\")).T\n",
    "Y = np.array(pd.read_csv(\"/Users/ryanlucas/Desktop/df_Y.csv\")).reshape(-1)"
   ],
   "outputs": [],
   "metadata": {}
  },
  {
   "cell_type": "code",
   "execution_count": 109,
   "source": [
    "def ERM_SVM(ξ):\n",
    "\n",
    "    model = pic.Problem() # Model instantiation\n",
    "\n",
    "    # This part here will depend on the type of the problem. (nature of ξ and θ)------\n",
    "    X, Y = ξ[0], ξ[1]\n",
    "    N, d = X.shape\n",
    "\n",
    "    # Decision Variables\n",
    "    θ = pic.RealVariable(\"theta\", (d+1, 1))\n",
    "    loss = pic.RealVariable(\"loss\", (N, 1))  # Models \\loss^\\epsilon (i)\n",
    "\n",
    "    # Objective Function\n",
    "    model.set_objective('min', 1/N*pic.sum(loss))\n",
    "\n",
    "    # Loss definition-------------------------\n",
    "    # SVM loss = max{1-Y'(w'X-b)}, loss_epsilon = max{1-Y'(w'X-b) + ϵ |w|_2^2/|w|}\n",
    "    for i in range(0, N):\n",
    "        model.add_constraint(loss[i] >= 0)\n",
    "        model.add_constraint(loss[i] >= 1 - Y[i]*(θ[0:d].T*X[i, :] - θ[-1]))\n",
    "    # ----------------------------------------\n",
    "\n",
    "    model.solve(solver='mosek')\n",
    "\n",
    "    return np.array(θ.value), model.value\n"
   ],
   "outputs": [],
   "metadata": {}
  },
  {
   "cell_type": "code",
   "execution_count": 121,
   "source": [
    "def ERM_SVM(ξ):\n",
    "\n",
    "    X, Y = ξ[0], ξ[1]\n",
    "    d, N = X.shape\n",
    "\n",
    "    θ = cp.Variable(shape = (d+1, 1))\n",
    "    loss = cp.Variable(shape = (N, 1)) # Models \\loss^\\epsilon (i)\n",
    "\n",
    "    objective = cp.Minimize(1/N * cp.sum(loss))\n",
    "\n",
    "    nonnegativity_constraints = []\n",
    "    loss_constraints = []\n",
    "\n",
    "    for i in range(0, N):\n",
    "        nonnegativity_constraints.append(loss[i] >= 0)\n",
    "        loss_constraints.append(loss[i] >= 1 - Y[i]*(θ[0:d].T@X[:, i] - θ[-1]))\n",
    "\n",
    "    complete_constraints = nonnegativity_constraints + loss_constraints\n",
    "\n",
    "    model = cp.Problem(\n",
    "                    objective=objective,\n",
    "                    constraints=complete_constraints\n",
    "                    )\n",
    "\n",
    "    model.solve()\n",
    "\n",
    "    return θ.value, model.value"
   ],
   "outputs": [],
   "metadata": {}
  }
 ],
 "metadata": {
  "kernelspec": {
   "name": "python3",
   "display_name": "Python 3.8.8 64-bit ('base': conda)"
  },
  "language_info": {
   "name": "python",
   "version": "3.8.8",
   "mimetype": "text/x-python",
   "codemirror_mode": {
    "name": "ipython",
    "version": 3
   },
   "pygments_lexer": "ipython3",
   "nbconvert_exporter": "python",
   "file_extension": ".py"
  },
  "interpreter": {
   "hash": "4e7a58de4b7e505b0e82f0adcc21bb9621f61c2c1c0bdf66b0394a18a0c298a7"
  }
 },
 "nbformat": 4,
 "nbformat_minor": 5
}