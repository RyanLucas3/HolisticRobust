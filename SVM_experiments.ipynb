{
 "cells": [
  {
   "cell_type": "code",
   "execution_count": 10,
   "source": [
    "import pandas as pd\n",
    "from SVM import *\n",
    "import cvxpy as cp"
   ],
   "outputs": [],
   "metadata": {}
  },
  {
   "cell_type": "markdown",
   "source": [
    "**Loading Datasets**"
   ],
   "metadata": {}
  },
  {
   "cell_type": "code",
   "execution_count": 125,
   "source": [
    "X = np.matrix(pd.read_csv(\"data/df_X.csv\")).T\n",
    "Y = np.array(pd.read_csv(\"data/df_Y.csv\")).reshape(-1)"
   ],
   "outputs": [],
   "metadata": {}
  },
  {
   "cell_type": "code",
   "execution_count": 122,
   "source": [
    "ERM_SVM(ξ = (X, Y))"
   ],
   "outputs": [
    {
     "output_type": "execute_result",
     "data": {
      "text/plain": [
       "(array([[ 0.14685697],\n",
       "        [-0.09383259],\n",
       "        [ 0.7595138 ],\n",
       "        [ 0.02527951],\n",
       "        [-0.15274204],\n",
       "        [-0.87667619],\n",
       "        [-0.25437404],\n",
       "        [ 0.08803449],\n",
       "        [-0.15220239],\n",
       "        [-0.27195882],\n",
       "        [ 0.05327298],\n",
       "        [-0.        ]]),\n",
       " 0.4304416108028888)"
      ]
     },
     "metadata": {},
     "execution_count": 122
    }
   ],
   "metadata": {}
  },
  {
   "cell_type": "code",
   "execution_count": 123,
   "source": [
    "HR_SVM(ξ = (X,Y), \n",
    "       α = 0.01, \n",
    "       ϵ = 0.01, \n",
    "       r = 0.01)"
   ],
   "outputs": [
    {
     "output_type": "execute_result",
     "data": {
      "text/plain": [
       "(array([[ 0.11342455],\n",
       "        [-0.12713279],\n",
       "        [ 0.65764024],\n",
       "        [ 0.01506892],\n",
       "        [-0.02067672],\n",
       "        [-0.7483    ],\n",
       "        [-0.19553208],\n",
       "        [ 0.07195463],\n",
       "        [-0.18441096],\n",
       "        [-0.26823461],\n",
       "        [ 0.07381857],\n",
       "        [-0.07381857]]),\n",
       " 0.5640859693633589)"
      ]
     },
     "metadata": {},
     "execution_count": 123
    }
   ],
   "metadata": {}
  }
 ],
 "metadata": {
  "kernelspec": {
   "name": "python3",
   "display_name": "Python 3.8.8 64-bit ('base': conda)"
  },
  "language_info": {
   "name": "python",
   "version": "3.8.8",
   "mimetype": "text/x-python",
   "codemirror_mode": {
    "name": "ipython",
    "version": 3
   },
   "pygments_lexer": "ipython3",
   "nbconvert_exporter": "python",
   "file_extension": ".py"
  },
  "interpreter": {
   "hash": "4e7a58de4b7e505b0e82f0adcc21bb9621f61c2c1c0bdf66b0394a18a0c298a7"
  }
 },
 "nbformat": 4,
 "nbformat_minor": 5
}