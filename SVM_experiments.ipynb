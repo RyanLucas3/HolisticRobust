{
 "cells": [
  {
   "cell_type": "code",
   "execution_count": 1,
   "source": [
    "import pandas as pd\n",
    "from SVM import *"
   ],
   "outputs": [],
   "metadata": {}
  },
  {
   "cell_type": "code",
   "execution_count": 2,
   "source": [
    "!pip install GLOP"
   ],
   "outputs": [
    {
     "output_type": "stream",
     "name": "stdout",
     "text": [
      "Requirement already satisfied: GLOP in /Users/ryanlucas/opt/anaconda3/lib/python3.8/site-packages (0.1.1)\n",
      "\u001b[33mWARNING: You are using pip version 22.0.4; however, version 22.1 is available.\n",
      "You should consider upgrading via the '/Users/ryanlucas/opt/anaconda3/bin/python -m pip install --upgrade pip' command.\u001b[0m\n"
     ]
    }
   ],
   "metadata": {}
  },
  {
   "cell_type": "code",
   "execution_count": 3,
   "source": [
    "import cvxpy"
   ],
   "outputs": [],
   "metadata": {}
  },
  {
   "cell_type": "markdown",
   "source": [
    "**Loading Datasets**"
   ],
   "metadata": {}
  },
  {
   "cell_type": "code",
   "execution_count": 4,
   "source": [
    "X = np.matrix(pd.read_csv(\"/Users/ryanlucas/Desktop/df_X.csv\"))\n",
    "Y = np.array(pd.read_csv(\"/Users/ryanlucas/Desktop/df_Y.csv\")).reshape(-1)"
   ],
   "outputs": [],
   "metadata": {}
  },
  {
   "cell_type": "code",
   "execution_count": 5,
   "source": [
    "ERM_SVM(ξ = (X, Y))[0]"
   ],
   "outputs": [
    {
     "output_type": "execute_result",
     "data": {
      "text/plain": [
       "array([[ 0.14685697],\n",
       "       [-0.09383259],\n",
       "       [ 0.7595138 ],\n",
       "       [ 0.02527951],\n",
       "       [-0.15274204],\n",
       "       [-0.87667619],\n",
       "       [-0.25437404],\n",
       "       [ 0.08803449],\n",
       "       [-0.15220239],\n",
       "       [-0.27195882],\n",
       "       [ 0.        ],\n",
       "       [-0.05327298]])"
      ]
     },
     "metadata": {},
     "execution_count": 5
    }
   ],
   "metadata": {}
  },
  {
   "cell_type": "code",
   "execution_count": 11,
   "source": [
    "X[1, :].shape"
   ],
   "outputs": [
    {
     "output_type": "execute_result",
     "data": {
      "text/plain": [
       "(1, 11)"
      ]
     },
     "metadata": {},
     "execution_count": 11
    }
   ],
   "metadata": {}
  },
  {
   "cell_type": "code",
   "execution_count": 16,
   "source": [
    "θ[0:d].T.shape"
   ],
   "outputs": [
    {
     "output_type": "execute_result",
     "data": {
      "text/plain": [
       "(1, 11)"
      ]
     },
     "metadata": {},
     "execution_count": 16
    }
   ],
   "metadata": {}
  },
  {
   "cell_type": "code",
   "execution_count": 14,
   "source": [
    "θ[0:d].T*X[i, :]"
   ],
   "outputs": [
    {
     "output_type": "execute_result",
     "data": {
      "text/plain": [
       "<1×1 Real Linear Expression: theta[0:11]ᵀ·[11×1]>"
      ]
     },
     "metadata": {},
     "execution_count": 14
    }
   ],
   "metadata": {}
  },
  {
   "cell_type": "code",
   "execution_count": 13,
   "source": [
    "r = 0.1\n",
    "ϵ = 0.3\n",
    "α = 0.5\n",
    "ξ = (X, Y)\n",
    "\n",
    "model = pic.Problem()\n",
    "\n",
    "X, Y = ξ[0], ξ[1]\n",
    "N, d = X.shape\n",
    "\n",
    "θ = pic.RealVariable(\"theta\", (d+1, 1))\n",
    "loss = pic.RealVariable(\"loss\", (N, 1))  # Models \\loss^\\epsilon (i)\n",
    "w = pic.RealVariable(\"w\", (N, 1))\n",
    "\n",
    "λ = pic.RealVariable(\"lambda\")\n",
    "model.add_constraint(λ >= 0)\n",
    "\n",
    "β = pic.RealVariable(\"beta\")\n",
    "model.add_constraint(β >= 0)\n",
    "\n",
    "η = pic.RealVariable(\"eta\")\n",
    "\n",
    "W = pic.RealVariable(\"Worst\") # Models worst case, here max \\loss^\\epsilon (i)\n",
    "\n",
    "# Objective Function\n",
    "model.set_objective('min', 1/N*pic.sum(w) + (r-1)*λ + α*β + η)\n",
    "\n",
    "for i in range(0, N):\n",
    "    model.add_constraint(loss[i] >= 0)\n",
    "    model.add_constraint((loss[i] - 1 + Y[i]*(θ[0:d].T*X[i, :] - θ[-1])) // (ϵ*θ)  << pic.SecondOrderCone()) # Second-Order Cone Constraint\n",
    "\n",
    "for i in range(0, N):\n",
    "    model.add_constraint(-1*w[i] // λ // (η - loss[i]) << pic.ExponentialCone())\n",
    "    model.add_constraint(W >= loss[i])\n",
    "    model.add_constraint(-1*w[i] // λ // (η - W + β) << pic.ExponentialCone())\n",
    "\n",
    "model.solve(solver = 'mosek')"
   ],
   "outputs": [
    {
     "output_type": "error",
     "ename": "SolutionFailure",
     "evalue": "Code 1: No solution strategy found.",
     "traceback": [
      "\u001b[0;31m---------------------------------------------------------------------------\u001b[0m",
      "\u001b[0;31mNoStrategyFound\u001b[0m                           Traceback (most recent call last)",
      "File \u001b[0;32m~/opt/anaconda3/lib/python3.8/site-packages/picos/modeling/problem.py:1784\u001b[0m, in \u001b[0;36mProblem.solve\u001b[0;34m(self, **extra_options)\u001b[0m\n\u001b[1;32m   1783\u001b[0m \u001b[38;5;28;01mtry\u001b[39;00m:\n\u001b[0;32m-> 1784\u001b[0m     \u001b[38;5;28mself\u001b[39m\u001b[38;5;241m.\u001b[39m_strategy \u001b[38;5;241m=\u001b[39m \u001b[43mStrategy\u001b[49m\u001b[38;5;241;43m.\u001b[39;49m\u001b[43mfrom_problem\u001b[49m\u001b[43m(\u001b[49m\n\u001b[1;32m   1785\u001b[0m \u001b[43m        \u001b[49m\u001b[38;5;28;43mself\u001b[39;49m\u001b[43m,\u001b[49m\u001b[43m \u001b[49m\u001b[38;5;241;43m*\u001b[39;49m\u001b[38;5;241;43m*\u001b[39;49m\u001b[43mextra_options\u001b[49m\u001b[43m)\u001b[49m\n\u001b[1;32m   1786\u001b[0m \u001b[38;5;28;01mexcept\u001b[39;00m NoStrategyFound \u001b[38;5;28;01mas\u001b[39;00m error:\n",
      "File \u001b[0;32m~/opt/anaconda3/lib/python3.8/site-packages/picos/modeling/strategy.py:331\u001b[0m, in \u001b[0;36mStrategy.from_problem\u001b[0;34m(cls, problem, **extra_options)\u001b[0m\n\u001b[1;32m    329\u001b[0m         synopsis \u001b[38;5;241m+\u001b[39m\u001b[38;5;241m=\u001b[39m \u001b[38;5;124m\"\u001b[39m\u001b[38;5;130;01m\\n\u001b[39;00m\u001b[38;5;124m    - \u001b[39m\u001b[38;5;124m\"\u001b[39m\u001b[38;5;241m.\u001b[39mjoin((\u001b[38;5;124m\"\u001b[39m\u001b[38;5;124m\"\u001b[39m,) \u001b[38;5;241m+\u001b[39m reasons)\n\u001b[0;32m--> 331\u001b[0m     \u001b[38;5;28;01mraise\u001b[39;00m NoStrategyFound(synopsis)\n\u001b[1;32m    333\u001b[0m \u001b[38;5;28;01mreturn\u001b[39;00m strategies[costs\u001b[38;5;241m.\u001b[39mindex(\u001b[38;5;28mmin\u001b[39m(costs))]\n",
      "\u001b[0;31mNoStrategyFound\u001b[0m: No problem reformulation strategy found.\nSelected reasons for discarding reachable problem formulations:\n  MOSEK via Optimizer API does not support:\n    - Obeying ExpConeConstraint.",
      "\nThe above exception was the direct cause of the following exception:\n",
      "\u001b[0;31mSolutionFailure\u001b[0m                           Traceback (most recent call last)",
      "Input \u001b[0;32mIn [13]\u001b[0m, in \u001b[0;36m<cell line: 37>\u001b[0;34m()\u001b[0m\n\u001b[1;32m     34\u001b[0m     model\u001b[38;5;241m.\u001b[39madd_constraint(W \u001b[38;5;241m>\u001b[39m\u001b[38;5;241m=\u001b[39m loss[i])\n\u001b[1;32m     35\u001b[0m     model\u001b[38;5;241m.\u001b[39madd_constraint(\u001b[38;5;241m-\u001b[39m\u001b[38;5;241m1\u001b[39m\u001b[38;5;241m*\u001b[39mw[i] \u001b[38;5;241m/\u001b[39m\u001b[38;5;241m/\u001b[39m λ \u001b[38;5;241m/\u001b[39m\u001b[38;5;241m/\u001b[39m (η \u001b[38;5;241m-\u001b[39m W \u001b[38;5;241m+\u001b[39m β) \u001b[38;5;241m<<\u001b[39m pic\u001b[38;5;241m.\u001b[39mExponentialCone())\n\u001b[0;32m---> 37\u001b[0m \u001b[43mmodel\u001b[49m\u001b[38;5;241;43m.\u001b[39;49m\u001b[43msolve\u001b[49m\u001b[43m(\u001b[49m\u001b[43msolver\u001b[49m\u001b[43m \u001b[49m\u001b[38;5;241;43m=\u001b[39;49m\u001b[43m \u001b[49m\u001b[38;5;124;43m'\u001b[39;49m\u001b[38;5;124;43mmosek\u001b[39;49m\u001b[38;5;124;43m'\u001b[39;49m\u001b[43m)\u001b[49m\n",
      "File \u001b[0;32m~/opt/anaconda3/lib/python3.8/site-packages/picos/modeling/problem.py:1792\u001b[0m, in \u001b[0;36mProblem.solve\u001b[0;34m(self, **extra_options)\u001b[0m\n\u001b[1;32m   1789\u001b[0m     \u001b[38;5;28;01mif\u001b[39;00m verbose:\n\u001b[1;32m   1790\u001b[0m         \u001b[38;5;28mprint\u001b[39m(s, flush\u001b[38;5;241m=\u001b[39m\u001b[38;5;28;01mTrue\u001b[39;00m)\n\u001b[0;32m-> 1792\u001b[0m     \u001b[38;5;28;01mraise\u001b[39;00m SolutionFailure(\u001b[38;5;241m1\u001b[39m, \u001b[38;5;124m\"\u001b[39m\u001b[38;5;124mNo solution strategy found.\u001b[39m\u001b[38;5;124m\"\u001b[39m) \\\n\u001b[1;32m   1793\u001b[0m         \u001b[38;5;28;01mfrom\u001b[39;00m \u001b[38;5;21;01merror\u001b[39;00m\n\u001b[1;32m   1795\u001b[0m \u001b[38;5;28;01mif\u001b[39;00m verbose:\n\u001b[1;32m   1796\u001b[0m     \u001b[38;5;28mprint\u001b[39m(\u001b[38;5;124m\"\u001b[39m\u001b[38;5;124mSolution strategy:\u001b[39m\u001b[38;5;130;01m\\n\u001b[39;00m\u001b[38;5;124m  \u001b[39m\u001b[38;5;132;01m{}\u001b[39;00m\u001b[38;5;124m\"\u001b[39m\u001b[38;5;241m.\u001b[39mformat(\n\u001b[1;32m   1797\u001b[0m         \u001b[38;5;124m\"\u001b[39m\u001b[38;5;130;01m\\n\u001b[39;00m\u001b[38;5;124m  \u001b[39m\u001b[38;5;124m\"\u001b[39m\u001b[38;5;241m.\u001b[39mjoin(\u001b[38;5;28mstr\u001b[39m(\u001b[38;5;28mself\u001b[39m\u001b[38;5;241m.\u001b[39m_strategy)\u001b[38;5;241m.\u001b[39msplitlines())))\n",
      "\u001b[0;31mSolutionFailure\u001b[0m: Code 1: No solution strategy found."
     ]
    }
   ],
   "metadata": {}
  },
  {
   "cell_type": "code",
   "execution_count": null,
   "source": [
    "(loss[i] - 1 + Y[i]*(θ[0:d].T*X[i, :] - θ[-1])) // (ϵ*θ)"
   ],
   "outputs": [
    {
     "output_type": "execute_result",
     "data": {
      "text/plain": [
       "<13×1 Real Affine Expression: [loss[99] - 1 + (theta[0:11]ᵀ·[11×1] - theta[-1]); 0.3·theta]>"
      ]
     },
     "metadata": {},
     "execution_count": 23
    }
   ],
   "metadata": {}
  }
 ],
 "metadata": {
  "kernelspec": {
   "name": "python3",
   "display_name": "Python 3.8.8 64-bit ('base': conda)"
  },
  "language_info": {
   "name": "python",
   "version": "3.8.8",
   "mimetype": "text/x-python",
   "codemirror_mode": {
    "name": "ipython",
    "version": 3
   },
   "pygments_lexer": "ipython3",
   "nbconvert_exporter": "python",
   "file_extension": ".py"
  },
  "interpreter": {
   "hash": "4e7a58de4b7e505b0e82f0adcc21bb9621f61c2c1c0bdf66b0394a18a0c298a7"
  }
 },
 "nbformat": 4,
 "nbformat_minor": 5
}